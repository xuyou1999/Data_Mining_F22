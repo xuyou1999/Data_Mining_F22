{
 "cells": [
  {
   "cell_type": "code",
   "execution_count": 1,
   "metadata": {},
   "outputs": [],
   "source": [
    "import pandas as pd"
   ]
  },
  {
   "cell_type": "code",
   "execution_count": 7,
   "metadata": {},
   "outputs": [],
   "source": [
    "output = pd.DataFrame(columns=['org_row','route_id','direction_id','date','stop_id','punc'])\n",
    "for i in range(67):\n",
    "    df = pd.read_csv('../result/punc_input_table23_{}.csv'.format(i))\n",
    "    df = df.iloc[:,1:]\n",
    "    output = pd.concat([output,df],axis=0)"
   ]
  },
  {
   "cell_type": "code",
   "execution_count": 8,
   "metadata": {},
   "outputs": [],
   "source": [
    "output.to_csv('../result/punc_input_table23.csv',index=False)"
   ]
  }
 ],
 "metadata": {
  "kernelspec": {
   "display_name": "base",
   "language": "python",
   "name": "python3"
  },
  "language_info": {
   "codemirror_mode": {
    "name": "ipython",
    "version": 3
   },
   "file_extension": ".py",
   "mimetype": "text/x-python",
   "name": "python",
   "nbconvert_exporter": "python",
   "pygments_lexer": "ipython3",
   "version": "3.9.15"
  },
  "orig_nbformat": 4,
  "vscode": {
   "interpreter": {
    "hash": "d8cf549b0e672e8d5a0d0bf07c69eb35452dc99244258a03bd6dea3cf00f576e"
   }
  }
 },
 "nbformat": 4,
 "nbformat_minor": 2
}
