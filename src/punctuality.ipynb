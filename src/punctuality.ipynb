{
 "cells": [
  {
   "cell_type": "code",
   "execution_count": 1,
   "metadata": {},
   "outputs": [],
   "source": [
    "import schedule_Generator as sg\n",
    "import pandas as pd"
   ]
  },
  {
   "cell_type": "markdown",
   "metadata": {},
   "source": [
    "Example\n",
    "- Line 25: 25\n",
    "- Stop ULB: 5407F\n",
    "- Direction BOONDAEL GARE\n",
    "- Date: SEP 07"
   ]
  },
  {
   "cell_type": "code",
   "execution_count": 34,
   "metadata": {},
   "outputs": [
    {
     "data": {
      "text/html": [
       "<div>\n",
       "<style scoped>\n",
       "    .dataframe tbody tr th:only-of-type {\n",
       "        vertical-align: middle;\n",
       "    }\n",
       "\n",
       "    .dataframe tbody tr th {\n",
       "        vertical-align: top;\n",
       "    }\n",
       "\n",
       "    .dataframe thead th {\n",
       "        text-align: right;\n",
       "    }\n",
       "</style>\n",
       "<table border=\"1\" class=\"dataframe\">\n",
       "  <thead>\n",
       "    <tr style=\"text-align: right;\">\n",
       "      <th></th>\n",
       "      <th>route_id</th>\n",
       "      <th>service_id</th>\n",
       "      <th>trip_id</th>\n",
       "      <th>trip_headsign</th>\n",
       "      <th>direction_id</th>\n",
       "      <th>block_id</th>\n",
       "      <th>shape_id</th>\n",
       "    </tr>\n",
       "  </thead>\n",
       "  <tbody>\n",
       "    <tr>\n",
       "      <th>96068</th>\n",
       "      <td>25</td>\n",
       "      <td>236896051</td>\n",
       "      <td>113149920236896051</td>\n",
       "      <td>BOONDAEL GARE</td>\n",
       "      <td>1</td>\n",
       "      <td>8925469</td>\n",
       "      <td>025t0256</td>\n",
       "    </tr>\n",
       "    <tr>\n",
       "      <th>96069</th>\n",
       "      <td>25</td>\n",
       "      <td>236896051</td>\n",
       "      <td>113149922236896051</td>\n",
       "      <td>BOONDAEL GARE</td>\n",
       "      <td>1</td>\n",
       "      <td>8925474</td>\n",
       "      <td>025t0256</td>\n",
       "    </tr>\n",
       "    <tr>\n",
       "      <th>96072</th>\n",
       "      <td>25</td>\n",
       "      <td>236896051</td>\n",
       "      <td>113149925236896051</td>\n",
       "      <td>BOONDAEL GARE</td>\n",
       "      <td>1</td>\n",
       "      <td>8925469</td>\n",
       "      <td>025t0256</td>\n",
       "    </tr>\n",
       "    <tr>\n",
       "      <th>96075</th>\n",
       "      <td>25</td>\n",
       "      <td>236896051</td>\n",
       "      <td>113149929236896051</td>\n",
       "      <td>BOONDAEL GARE</td>\n",
       "      <td>1</td>\n",
       "      <td>8925473</td>\n",
       "      <td>025t0256</td>\n",
       "    </tr>\n",
       "    <tr>\n",
       "      <th>96077</th>\n",
       "      <td>25</td>\n",
       "      <td>236896051</td>\n",
       "      <td>113149932236896051</td>\n",
       "      <td>BOONDAEL GARE</td>\n",
       "      <td>1</td>\n",
       "      <td>8925474</td>\n",
       "      <td>025t0256</td>\n",
       "    </tr>\n",
       "  </tbody>\n",
       "</table>\n",
       "</div>"
      ],
      "text/plain": [
       "       route_id  service_id             trip_id  trip_headsign  direction_id  \\\n",
       "96068        25   236896051  113149920236896051  BOONDAEL GARE             1   \n",
       "96069        25   236896051  113149922236896051  BOONDAEL GARE             1   \n",
       "96072        25   236896051  113149925236896051  BOONDAEL GARE             1   \n",
       "96075        25   236896051  113149929236896051  BOONDAEL GARE             1   \n",
       "96077        25   236896051  113149932236896051  BOONDAEL GARE             1   \n",
       "\n",
       "       block_id  shape_id  \n",
       "96068   8925469  025t0256  \n",
       "96069   8925474  025t0256  \n",
       "96072   8925469  025t0256  \n",
       "96075   8925473  025t0256  \n",
       "96077   8925474  025t0256  "
      ]
     },
     "execution_count": 34,
     "metadata": {},
     "output_type": "execute_result"
    }
   ],
   "source": [
    "trips = pd.read_csv('../data/gtfs3Sept/trips.csv')\n",
    "trips_line = trips.loc[trips['route_id']==25,:]\n",
    "trip_line_head = trips_line.loc[trips_line['trip_headsign']=='BOONDAEL GARE',:]\n",
    "trip_line_head.head()"
   ]
  },
  {
   "cell_type": "code",
   "execution_count": 37,
   "metadata": {},
   "outputs": [
    {
     "data": {
      "text/html": [
       "<div>\n",
       "<style scoped>\n",
       "    .dataframe tbody tr th:only-of-type {\n",
       "        vertical-align: middle;\n",
       "    }\n",
       "\n",
       "    .dataframe tbody tr th {\n",
       "        vertical-align: top;\n",
       "    }\n",
       "\n",
       "    .dataframe thead th {\n",
       "        text-align: right;\n",
       "    }\n",
       "</style>\n",
       "<table border=\"1\" class=\"dataframe\">\n",
       "  <thead>\n",
       "    <tr style=\"text-align: right;\">\n",
       "      <th></th>\n",
       "      <th>service_id</th>\n",
       "      <th>monday</th>\n",
       "      <th>tuesday</th>\n",
       "      <th>wednesday</th>\n",
       "      <th>thursday</th>\n",
       "      <th>friday</th>\n",
       "      <th>saturday</th>\n",
       "      <th>sunday</th>\n",
       "      <th>start_date</th>\n",
       "      <th>end_date</th>\n",
       "    </tr>\n",
       "  </thead>\n",
       "  <tbody>\n",
       "    <tr>\n",
       "      <th>15</th>\n",
       "      <td>237645001</td>\n",
       "      <td>1</td>\n",
       "      <td>1</td>\n",
       "      <td>1</td>\n",
       "      <td>1</td>\n",
       "      <td>1</td>\n",
       "      <td>0</td>\n",
       "      <td>0</td>\n",
       "      <td>20210906</td>\n",
       "      <td>20210917</td>\n",
       "    </tr>\n",
       "    <tr>\n",
       "      <th>26</th>\n",
       "      <td>237648001</td>\n",
       "      <td>1</td>\n",
       "      <td>1</td>\n",
       "      <td>1</td>\n",
       "      <td>1</td>\n",
       "      <td>1</td>\n",
       "      <td>0</td>\n",
       "      <td>0</td>\n",
       "      <td>20210906</td>\n",
       "      <td>20210917</td>\n",
       "    </tr>\n",
       "    <tr>\n",
       "      <th>100</th>\n",
       "      <td>238202001</td>\n",
       "      <td>1</td>\n",
       "      <td>1</td>\n",
       "      <td>1</td>\n",
       "      <td>1</td>\n",
       "      <td>1</td>\n",
       "      <td>0</td>\n",
       "      <td>0</td>\n",
       "      <td>20210906</td>\n",
       "      <td>20210917</td>\n",
       "    </tr>\n",
       "    <tr>\n",
       "      <th>203</th>\n",
       "      <td>238119001</td>\n",
       "      <td>1</td>\n",
       "      <td>1</td>\n",
       "      <td>1</td>\n",
       "      <td>1</td>\n",
       "      <td>1</td>\n",
       "      <td>0</td>\n",
       "      <td>0</td>\n",
       "      <td>20210906</td>\n",
       "      <td>20210917</td>\n",
       "    </tr>\n",
       "    <tr>\n",
       "      <th>223</th>\n",
       "      <td>238201001</td>\n",
       "      <td>1</td>\n",
       "      <td>1</td>\n",
       "      <td>1</td>\n",
       "      <td>1</td>\n",
       "      <td>1</td>\n",
       "      <td>0</td>\n",
       "      <td>0</td>\n",
       "      <td>20210906</td>\n",
       "      <td>20210917</td>\n",
       "    </tr>\n",
       "  </tbody>\n",
       "</table>\n",
       "</div>"
      ],
      "text/plain": [
       "     service_id  monday  tuesday  wednesday  thursday  friday  saturday  \\\n",
       "15    237645001       1        1          1         1       1         0   \n",
       "26    237648001       1        1          1         1       1         0   \n",
       "100   238202001       1        1          1         1       1         0   \n",
       "203   238119001       1        1          1         1       1         0   \n",
       "223   238201001       1        1          1         1       1         0   \n",
       "\n",
       "     sunday  start_date  end_date  \n",
       "15        0    20210906  20210917  \n",
       "26        0    20210906  20210917  \n",
       "100       0    20210906  20210917  \n",
       "203       0    20210906  20210917  \n",
       "223       0    20210906  20210917  "
      ]
     },
     "execution_count": 37,
     "metadata": {},
     "output_type": "execute_result"
    }
   ],
   "source": [
    "calendar = pd.read_csv('../data/gtfs3Sept/calendar.csv')\n",
    "calendar_week = calendar.loc[calendar['start_date']==20210906,:]\n",
    "calendar_week_day = calendar_week.loc[calendar_week['tuesday']==1,:]\n",
    "calendar_week_day.head()"
   ]
  },
  {
   "cell_type": "code",
   "execution_count": 38,
   "metadata": {},
   "outputs": [
    {
     "data": {
      "text/html": [
       "<div>\n",
       "<style scoped>\n",
       "    .dataframe tbody tr th:only-of-type {\n",
       "        vertical-align: middle;\n",
       "    }\n",
       "\n",
       "    .dataframe tbody tr th {\n",
       "        vertical-align: top;\n",
       "    }\n",
       "\n",
       "    .dataframe thead th {\n",
       "        text-align: right;\n",
       "    }\n",
       "</style>\n",
       "<table border=\"1\" class=\"dataframe\">\n",
       "  <thead>\n",
       "    <tr style=\"text-align: right;\">\n",
       "      <th></th>\n",
       "      <th>route_id</th>\n",
       "      <th>service_id</th>\n",
       "      <th>trip_id</th>\n",
       "    </tr>\n",
       "  </thead>\n",
       "  <tbody>\n",
       "    <tr>\n",
       "      <th>0</th>\n",
       "      <td>25</td>\n",
       "      <td>238202001</td>\n",
       "      <td>113480343238202001</td>\n",
       "    </tr>\n",
       "    <tr>\n",
       "      <th>1</th>\n",
       "      <td>25</td>\n",
       "      <td>238202001</td>\n",
       "      <td>113480346238202001</td>\n",
       "    </tr>\n",
       "    <tr>\n",
       "      <th>2</th>\n",
       "      <td>25</td>\n",
       "      <td>238202001</td>\n",
       "      <td>113480348238202001</td>\n",
       "    </tr>\n",
       "    <tr>\n",
       "      <th>3</th>\n",
       "      <td>25</td>\n",
       "      <td>238202001</td>\n",
       "      <td>113480356238202001</td>\n",
       "    </tr>\n",
       "    <tr>\n",
       "      <th>4</th>\n",
       "      <td>25</td>\n",
       "      <td>238202001</td>\n",
       "      <td>113480357238202001</td>\n",
       "    </tr>\n",
       "  </tbody>\n",
       "</table>\n",
       "</div>"
      ],
      "text/plain": [
       "   route_id  service_id             trip_id\n",
       "0        25   238202001  113480343238202001\n",
       "1        25   238202001  113480346238202001\n",
       "2        25   238202001  113480348238202001\n",
       "3        25   238202001  113480356238202001\n",
       "4        25   238202001  113480357238202001"
      ]
     },
     "execution_count": 38,
     "metadata": {},
     "output_type": "execute_result"
    }
   ],
   "source": [
    "trip_line_date_head = pd.merge(left=trip_line_head, right=calendar_week_day, on='service_id', how='inner').loc[:,['route_id','service_id','trip_id']]\n",
    "trip_line_date_head.head()"
   ]
  },
  {
   "cell_type": "code",
   "execution_count": 77,
   "metadata": {},
   "outputs": [
    {
     "data": {
      "text/plain": [
       "route_id          146\n",
       "service_id        146\n",
       "trip_id           146\n",
       "arrival_time      146\n",
       "departure_time    146\n",
       "stop_id           146\n",
       "stop_sequence     146\n",
       "pickup_type       146\n",
       "drop_off_type     146\n",
       "dtype: int64"
      ]
     },
     "execution_count": 77,
     "metadata": {},
     "output_type": "execute_result"
    }
   ],
   "source": [
    "stop_times = pd.read_csv('../data/gtfs3Sept/stop_times.csv')\n",
    "time_line_date_head = pd.merge(left=trip_line_date_head, right=stop_times, on='trip_id')\n",
    "time_line_date_head_stop = time_line_date_head.loc[time_line_date_head['stop_id']==\"5407F\",:]\n",
    "time_line_date_head_stop.sort_values('arrival_time').count()"
   ]
  },
  {
   "cell_type": "code",
   "execution_count": 41,
   "metadata": {},
   "outputs": [
    {
     "data": {
      "text/plain": [
       "Timestamp('2021-09-07 07:14:54.287000')"
      ]
     },
     "execution_count": 41,
     "metadata": {},
     "output_type": "execute_result"
    }
   ],
   "source": [
    "def unix_to_datetime(unix_time):\n",
    "    return pd.to_datetime(unix_time,unit=\"ms\",origin=\"unix\")\n",
    "\n",
    "def datetime_to_unix(dt):\n",
    "    return int(pd.Timestamp.timestamp(pd.Timestamp(dt))*1000)\n",
    "\n",
    "unix_to_datetime(1630998894287)"
   ]
  },
  {
   "cell_type": "code",
   "execution_count": 83,
   "metadata": {},
   "outputs": [
    {
     "name": "stderr",
     "output_type": "stream",
     "text": [
      "/var/folders/v1/m2nqhx3d4yv9mjbpndrlsck00000gn/T/ipykernel_13291/2597911513.py:4: SettingWithCopyWarning: \n",
      "A value is trying to be set on a copy of a slice from a DataFrame.\n",
      "Try using .loc[row_indexer,col_indexer] = value instead\n",
      "\n",
      "See the caveats in the documentation: https://pandas.pydata.org/pandas-docs/stable/user_guide/indexing.html#returning-a-view-versus-a-copy\n",
      "  actural_time_line_point['Time'] = actural_time_line_point['Time'].apply(unix_to_datetime)\n"
     ]
    },
    {
     "data": {
      "text/plain": [
       "Time                 62\n",
       "LineID               62\n",
       "DirectionID          62\n",
       "DistanceFromPoint    62\n",
       "PointID              62\n",
       "dtype: int64"
      ]
     },
     "execution_count": 83,
     "metadata": {},
     "output_type": "execute_result"
    }
   ],
   "source": [
    "actural_time = pd.concat([pd.read_csv('../data/vehiclePosition01.csv'),pd.read_csv('../data/vehiclePosition02.csv'),pd.read_csv('../data/vehiclePosition03.csv')])\n",
    "actural_time_line = actural_time.loc[actural_time['LineID']==25,:]\n",
    "actural_time_line_point = actural_time_line.loc[actural_time_line['PointID']==5407,:]\n",
    "actural_time_line_point['Time'] = actural_time_line_point['Time'].apply(unix_to_datetime)\n",
    "actural_time_line_point_date = actural_time_line_point.loc[actural_time_line_point['Time'].dt.date == pd.to_datetime('2021-09-07').date(),:]\n",
    "actural_time_line_point_date_arrive = actural_time_line_point_date.loc[actural_time_line_point_date['DistanceFromPoint']==0,:]\n",
    "select_list = [True]\n",
    "for i in range(1, len(actural_time_line_point_date_arrive)):\n",
    "    if actural_time_line_point_date_arrive.iloc[i,0] - actural_time_line_point_date_arrive.iloc[i-1,0] <= pd.Timedelta('00:00:45'):\n",
    "        select_list.append(False)\n",
    "    else:\n",
    "        select_list.append(True)\n",
    "actural_time_line_point_date_arrive_noduplicate = actural_time_line_point_date_arrive.loc[select_list,:]\n",
    "actural_time_line_point_date_arrive_noduplicate.count()"
   ]
  },
  {
   "cell_type": "markdown",
   "metadata": {},
   "source": [
    "Schedule train 146\n",
    "Actual train 62"
   ]
  },
  {
   "cell_type": "code",
   "execution_count": 134,
   "metadata": {},
   "outputs": [
    {
     "data": {
      "text/plain": [
       "0.0821917808219178"
      ]
     },
     "execution_count": 134,
     "metadata": {},
     "output_type": "execute_result"
    }
   ],
   "source": [
    "on_time = 0\n",
    "time_line_date_head_stop['arrival_time'].apply(pd.to_timedelta)\n",
    "actural_time_line_point_date_arrive_noduplicate['Time'] - pd.Timestamp('2021-09-07 00:00:00')\n",
    "for t in time_line_date_head_stop['arrival_time'].apply(pd.to_timedelta):\n",
    "    ot = False\n",
    "    for at in actural_time_line_point_date_arrive_noduplicate['Time'] - pd.Timestamp('2021-09-07 00:00:00'):\n",
    "        t_dif = t - at\n",
    "        if t_dif <= pd.Timedelta('00:00:30') and t_dif >= pd.Timedelta('-00:00:30'):\n",
    "            ot = True\n",
    "    if ot == True:\n",
    "        on_time+=1\n",
    "on_time_rate = on_time/len(time_line_date_head_stop['arrival_time'])\n",
    "on_time_rate"
   ]
  }
 ],
 "metadata": {
  "kernelspec": {
   "display_name": "Python 3.9.13 ('base')",
   "language": "python",
   "name": "python3"
  },
  "language_info": {
   "codemirror_mode": {
    "name": "ipython",
    "version": 3
   },
   "file_extension": ".py",
   "mimetype": "text/x-python",
   "name": "python",
   "nbconvert_exporter": "python",
   "pygments_lexer": "ipython3",
   "version": "3.9.13"
  },
  "orig_nbformat": 4,
  "vscode": {
   "interpreter": {
    "hash": "d8cf549b0e672e8d5a0d0bf07c69eb35452dc99244258a03bd6dea3cf00f576e"
   }
  }
 },
 "nbformat": 4,
 "nbformat_minor": 2
}
